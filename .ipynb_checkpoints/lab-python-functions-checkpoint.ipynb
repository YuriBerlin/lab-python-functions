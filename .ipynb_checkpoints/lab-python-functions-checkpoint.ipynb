{
 "cells": [
  {
   "cell_type": "markdown",
   "id": "25d7736c-ba17-4aff-b6bb-66eba20fbf4e",
   "metadata": {},
   "source": [
    "# Lab | Functions"
   ]
  },
  {
   "cell_type": "markdown",
   "id": "0c581062-8967-4d93-b06e-62833222f930",
   "metadata": {
    "tags": []
   },
   "source": [
    "## Exercise: Managing Customer Orders with Functions\n",
    "\n",
    "In the previous exercise, you improved the code for managing customer orders by using loops and flow control. Now, let's take it a step further and refactor the code by introducing functions.\n",
    "\n",
    "Follow the steps below to complete the exercise:\n",
    "\n",
    "1. Define a function named `initialize_inventory` that takes `products` as a parameter. Inside the function, implement the code for initializing the inventory dictionary using a loop and user input.\n",
    "\n",
    "2. Define a function named `get_customer_orders` that takes no parameters. Inside the function, implement the code for prompting the user to enter the product names using a loop. The function should return the `customer_orders` set.\n",
    "\n",
    "3. Define a function named `update_inventory` that takes `customer_orders` and `inventory` as parameters. Inside the function, implement the code for updating the inventory dictionary based on the customer orders.\n",
    "\n",
    "4. Define a function named `calculate_order_statistics` that takes `customer_orders` and `products` as parameters. Inside the function, implement the code for calculating the order statistics (total products ordered, and percentage of unique products ordered). The function should return these values.\n",
    "\n",
    "5. Define a function named `print_order_statistics` that takes `order_statistics` as a parameter. Inside the function, implement the code for printing the order statistics.\n",
    "\n",
    "6. Define a function named `print_updated_inventory` that takes `inventory` as a parameter. Inside the function, implement the code for printing the updated inventory.\n",
    "\n",
    "7. Call the functions in the appropriate sequence to execute the program and manage customer orders.\n",
    "\n",
    "Hints for functions:\n",
    "\n",
    "- Consider the input parameters required for each function and their return values.\n",
    "- Utilize function parameters and return values to transfer data between functions.\n",
    "- Test your functions individually to ensure they work correctly.\n",
    "\n",
    "\n"
   ]
  },
  {
   "cell_type": "code",
   "execution_count": 1,
   "id": "53068018",
   "metadata": {},
   "outputs": [],
   "source": [
    "products = [\"hat\", \"key\", \"bag\"]"
   ]
  },
  {
   "cell_type": "code",
   "execution_count": 2,
   "id": "ed4a5c92",
   "metadata": {},
   "outputs": [],
   "source": [
    "def initialize_inventory (products):\n",
    "    inventory={}\n",
    "    for i in products:\n",
    "        inventory[i] = int(input(f\"Please enter a number for: {i}  \"))\n",
    "    return inventory"
   ]
  },
  {
   "cell_type": "code",
   "execution_count": 3,
   "id": "f8774518",
   "metadata": {},
   "outputs": [],
   "source": [
    "def get_customer_orders():\n",
    "    customer_orders = set()\n",
    "    choice = 1\n",
    "    while choice == 1:\n",
    "        x = input(\"\\nPlease enter a product you would like to purchase: \")\n",
    "        if x in inventory and inventory[x]>0:\n",
    "            customer_orders.add(x)\n",
    "            print (\"Added\")\n",
    "        elif x in inventory and inventory[x]==0:\n",
    "            print (\"Sorry, this product is sold out\")\n",
    "        else:\n",
    "            print (\"No such a product\") \n",
    "        choice = int(input(\"\\nDo you want to choose an other product, 1 - yes, 0 - no: \"))\n",
    "    return customer_orders\n"
   ]
  },
  {
   "cell_type": "code",
   "execution_count": 4,
   "id": "c24dac76",
   "metadata": {},
   "outputs": [],
   "source": [
    "def update_inventory(customer_orders, inventory):\n",
    "    inv =  inventory\n",
    "    for i in inv.keys():\n",
    "         if inv[i] > 0 and (i in customer_orders):\n",
    "            inv[i] =  inv[i]-1\n",
    "    return inv"
   ]
  },
  {
   "cell_type": "code",
   "execution_count": 5,
   "id": "8ae74226",
   "metadata": {},
   "outputs": [],
   "source": [
    "def calculate_order_statistics (products, customer_orders):\n",
    "    total = len(customer_orders)\n",
    "    percent = round(len(customer_orders)/len(inventory)*100,2)\n",
    "    return (total, percent)"
   ]
  },
  {
   "cell_type": "code",
   "execution_count": 6,
   "id": "463e651c",
   "metadata": {},
   "outputs": [],
   "source": [
    "def print_order_statistics (order_statistics):\n",
    "    print (\"\\n\\n\")\n",
    "    print(f\"Total number of products ordered:  {order_statistics[0]}\")\n",
    "    print(f\"Percentage of unique products ordered:  {order_statistics[1]}\")"
   ]
  },
  {
   "cell_type": "code",
   "execution_count": 7,
   "id": "aff53fac",
   "metadata": {},
   "outputs": [],
   "source": [
    "def print_updated_inventory(inventory):\n",
    "    print (\"\\n\\n\")\n",
    "    print (\"Updated inventory:\")\n",
    "    print (inventory)"
   ]
  },
  {
   "cell_type": "code",
   "execution_count": 8,
   "id": "c0d6cfbb",
   "metadata": {},
   "outputs": [
    {
     "name": "stdout",
     "output_type": "stream",
     "text": [
      "Please enter a number for: hat  1\n",
      "Please enter a number for: key  2\n",
      "Please enter a number for: bag  3\n",
      "\n",
      "Please enter a product you would like to purchase: hat\n",
      "Added\n",
      "\n",
      "Do you want to choose an other product, 1 - yes, 0 - no: 1\n",
      "\n",
      "Please enter a product you would like to purchase: key\n",
      "Added\n",
      "\n",
      "Do you want to choose an other product, 1 - yes, 0 - no: 1\n",
      "\n",
      "Please enter a product you would like to purchase: bag\n",
      "Added\n",
      "\n",
      "Do you want to choose an other product, 1 - yes, 0 - no: 0\n",
      "\n",
      "\n",
      "\n",
      "Total number of products ordered:  3\n",
      "Percentage of unique products ordered:  100.0\n",
      "\n",
      "\n",
      "\n",
      "Updated inventory:\n",
      "{'hat': 0, 'key': 1, 'bag': 2}\n"
     ]
    }
   ],
   "source": [
    "inventory = initialize_inventory (products)\n",
    "customer_orders = get_customer_orders()\n",
    "updated_iventory = dict()\n",
    "updated_inventory = update_inventory(customer_orders, inventory)\n",
    "order_stats = calculate_order_statistics(products, customer_orders)\n",
    "print_order_statistics(order_stats)\n",
    "print_updated_inventory(updated_inventory)"
   ]
  }
 ],
 "metadata": {
  "kernelspec": {
   "display_name": "Python 3 (ipykernel)",
   "language": "python",
   "name": "python3"
  },
  "language_info": {
   "codemirror_mode": {
    "name": "ipython",
    "version": 3
   },
   "file_extension": ".py",
   "mimetype": "text/x-python",
   "name": "python",
   "nbconvert_exporter": "python",
   "pygments_lexer": "ipython3",
   "version": "3.11.5"
  }
 },
 "nbformat": 4,
 "nbformat_minor": 5
}
